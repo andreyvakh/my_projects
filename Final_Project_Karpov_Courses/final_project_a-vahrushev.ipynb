{
 "cells": [
  {
   "cell_type": "markdown",
   "metadata": {},
   "source": [
    "# Финальный проект. Вариант 2\n",
    "### Автор: Андрей Вахрушев (a-vahrushev)\n",
    "Дата начала обучения: 28.02.2023  \n",
    "Дата сдачи проекта: 07.08.2023"
   ]
  },
  {
   "cell_type": "code",
   "execution_count": 1,
   "metadata": {},
   "outputs": [],
   "source": [
    "# подгружаем библиотеки\n",
    "import pandas as pd\n",
    "import seaborn as sns\n",
    "import numpy as np\n",
    "import scipy.stats as ss\n",
    "import pingouin as pg\n",
    "import pandahouse as ph\n",
    "import matplotlib.pyplot as plt"
   ]
  },
  {
   "cell_type": "code",
   "execution_count": 2,
   "metadata": {},
   "outputs": [],
   "source": [
    "# загружаем исходные данные..\n",
    "path='/mnt/HC_Volume_18315164/home-jupyter/jupyter-a-vahrushev/Final_Project/'\n",
    "\n",
    "groups_df=pd.read_csv(path + 'groups.csv', sep=';')\n",
    "group_add_df=pd.read_csv(path + 'group_add.csv')\n",
    "active_studs_df=pd.read_csv(path + 'active_studs.csv')\n",
    "checks_df=pd.read_csv(path + 'checks.csv', sep=';')"
   ]
  },
  {
   "cell_type": "markdown",
   "metadata": {},
   "source": [
    "### Задание 1. A/B–тестирование\n",
    "В ходе тестирования одной гипотезы целевой группе была предложена новая механика оплаты услуг на сайте, у контрольной группы оставалась базовая механика.\n",
    "\n",
    "Для начала проведем краткий общий анализ входных данных"
   ]
  },
  {
   "cell_type": "code",
   "execution_count": 3,
   "metadata": {},
   "outputs": [
    {
     "name": "stderr",
     "output_type": "stream",
     "text": [
      "/opt/tljh/user/lib/python3.7/site-packages/outdated/utils.py:18: OutdatedCacheFailedWarning: Failed to use cache while checking for outdated package.\n",
      "Set the environment variable OUTDATED_RAISE_EXCEPTION=1 for a full traceback.\n",
      "Set the environment variable OUTDATED_IGNORE=1 to disable these warnings.\n",
      "  **kwargs\n",
      "/opt/tljh/user/lib/python3.7/site-packages/outdated/utils.py:18: OutdatedPackageWarning: The package outdated is out of date. Your version is 0.2.1, the latest is 0.2.2.\n",
      "Set the environment variable OUTDATED_IGNORE=1 to disable these warnings.\n",
      "  **kwargs\n",
      "/opt/tljh/user/lib/python3.7/site-packages/outdated/utils.py:18: OutdatedPackageWarning: The package pingouin is out of date. Your version is 0.4.0, the latest is 0.5.3.\n",
      "Set the environment variable OUTDATED_IGNORE=1 to disable these warnings.\n",
      "  **kwargs\n"
     ]
    },
    {
     "data": {
      "text/html": [
       "<div>\n",
       "<style scoped>\n",
       "    .dataframe tbody tr th:only-of-type {\n",
       "        vertical-align: middle;\n",
       "    }\n",
       "\n",
       "    .dataframe tbody tr th {\n",
       "        vertical-align: top;\n",
       "    }\n",
       "\n",
       "    .dataframe thead th {\n",
       "        text-align: right;\n",
       "    }\n",
       "</style>\n",
       "<table border=\"1\" class=\"dataframe\">\n",
       "  <thead>\n",
       "    <tr style=\"text-align: right;\">\n",
       "      <th></th>\n",
       "      <th>id</th>\n",
       "      <th>grp</th>\n",
       "    </tr>\n",
       "  </thead>\n",
       "  <tbody>\n",
       "    <tr>\n",
       "      <th>0</th>\n",
       "      <td>1489</td>\n",
       "      <td>B</td>\n",
       "    </tr>\n",
       "    <tr>\n",
       "      <th>1</th>\n",
       "      <td>1627</td>\n",
       "      <td>A</td>\n",
       "    </tr>\n",
       "    <tr>\n",
       "      <th>2</th>\n",
       "      <td>1768</td>\n",
       "      <td>B</td>\n",
       "    </tr>\n",
       "    <tr>\n",
       "      <th>3</th>\n",
       "      <td>1783</td>\n",
       "      <td>B</td>\n",
       "    </tr>\n",
       "    <tr>\n",
       "      <th>4</th>\n",
       "      <td>1794</td>\n",
       "      <td>A</td>\n",
       "    </tr>\n",
       "  </tbody>\n",
       "</table>\n",
       "</div>"
      ],
      "text/plain": [
       "     id grp\n",
       "0  1489   B\n",
       "1  1627   A\n",
       "2  1768   B\n",
       "3  1783   B\n",
       "4  1794   A"
      ]
     },
     "execution_count": 3,
     "metadata": {},
     "output_type": "execute_result"
    }
   ],
   "source": [
    "# Датасет с информацией о принадлежности пользователя к контрольной или экспериментальной группе\n",
    "# (А – контроль (базовая механика оплаты), B – целевая группа (новая механика оплаты) \n",
    "groups_df.head()"
   ]
  },
  {
   "cell_type": "code",
   "execution_count": 4,
   "metadata": {},
   "outputs": [
    {
     "data": {
      "text/plain": [
       "(74484, 2)"
      ]
     },
     "execution_count": 4,
     "metadata": {},
     "output_type": "execute_result"
    }
   ],
   "source": [
    "# размеры датасета\n",
    "groups_df.shape"
   ]
  },
  {
   "cell_type": "code",
   "execution_count": 5,
   "metadata": {},
   "outputs": [
    {
     "data": {
      "text/plain": [
       "id     0\n",
       "grp    0\n",
       "dtype: int64"
      ]
     },
     "execution_count": 5,
     "metadata": {},
     "output_type": "execute_result"
    }
   ],
   "source": [
    "# проверим наличие пустых строк\n",
    "groups_df.isna().sum()"
   ]
  },
  {
   "cell_type": "markdown",
   "metadata": {},
   "source": [
    "пустых строк нет"
   ]
  },
  {
   "cell_type": "code",
   "execution_count": 6,
   "metadata": {
    "scrolled": true
   },
   "outputs": [
    {
     "data": {
      "text/plain": [
       "id     74484\n",
       "grp        2\n",
       "dtype: int64"
      ]
     },
     "execution_count": 6,
     "metadata": {},
     "output_type": "execute_result"
    }
   ],
   "source": [
    "# проверим наличие повторных id\n",
    "groups_df.nunique()"
   ]
  },
  {
   "cell_type": "markdown",
   "metadata": {},
   "source": [
    "число уникальных id совпадает с числом строк всего датасета -> все id уникальные, дублей нет"
   ]
  },
  {
   "cell_type": "code",
   "execution_count": 7,
   "metadata": {},
   "outputs": [
    {
     "data": {
      "text/plain": [
       "B    59813\n",
       "A    14671\n",
       "Name: grp, dtype: int64"
      ]
     },
     "execution_count": 7,
     "metadata": {},
     "output_type": "execute_result"
    }
   ],
   "source": [
    "# оценим размеры целевой (B) и контрольной(A) групп численно и на диаграмме\n",
    "groups_df.grp.value_counts()"
   ]
  },
  {
   "cell_type": "code",
   "execution_count": 8,
   "metadata": {},
   "outputs": [
    {
     "data": {
      "text/plain": [
       "<matplotlib.axes._subplots.AxesSubplot at 0x7f29855f7780>"
      ]
     },
     "execution_count": 8,
     "metadata": {},
     "output_type": "execute_result"
    },
    {
     "data": {
      "image/png": "[encoded data removed]",
      "text/plain": [
       "<Figure size 432x288 with 1 Axes>"
      ]
     },
     "metadata": {
      "needs_background": "light"
     },
     "output_type": "display_data"
    }
   ],
   "source": [
    "sns.countplot(data = groups_df, x = 'grp')"
   ]
  },
  {
   "cell_type": "code",
   "execution_count": 9,
   "metadata": {},
   "outputs": [
    {
     "data": {
      "text/html": [
       "<div>\n",
       "<style scoped>\n",
       "    .dataframe tbody tr th:only-of-type {\n",
       "        vertical-align: middle;\n",
       "    }\n",
       "\n",
       "    .dataframe tbody tr th {\n",
       "        vertical-align: top;\n",
       "    }\n",
       "\n",
       "    .dataframe thead th {\n",
       "        text-align: right;\n",
       "    }\n",
       "</style>\n",
       "<table border=\"1\" class=\"dataframe\">\n",
       "  <thead>\n",
       "    <tr style=\"text-align: right;\">\n",
       "      <th></th>\n",
       "      <th>id</th>\n",
       "      <th>grp</th>\n",
       "    </tr>\n",
       "  </thead>\n",
       "  <tbody>\n",
       "    <tr>\n",
       "      <th>0</th>\n",
       "      <td>5694584</td>\n",
       "      <td>B</td>\n",
       "    </tr>\n",
       "    <tr>\n",
       "      <th>1</th>\n",
       "      <td>5694830</td>\n",
       "      <td>B</td>\n",
       "    </tr>\n",
       "    <tr>\n",
       "      <th>2</th>\n",
       "      <td>5695057</td>\n",
       "      <td>B</td>\n",
       "    </tr>\n",
       "    <tr>\n",
       "      <th>3</th>\n",
       "      <td>5698872</td>\n",
       "      <td>B</td>\n",
       "    </tr>\n",
       "    <tr>\n",
       "      <th>4</th>\n",
       "      <td>5699067</td>\n",
       "      <td>B</td>\n",
       "    </tr>\n",
       "  </tbody>\n",
       "</table>\n",
       "</div>"
      ],
      "text/plain": [
       "        id grp\n",
       "0  5694584   B\n",
       "1  5694830   B\n",
       "2  5695057   B\n",
       "3  5698872   B\n",
       "4  5699067   B"
      ]
     },
     "execution_count": 9,
     "metadata": {},
     "output_type": "execute_result"
    }
   ],
   "source": [
    "# дополнительный датасет с пользователями, который прислали спустя 2 дня после передачи данных\n",
    "group_add_df.head()"
   ]
  },
  {
   "cell_type": "code",
   "execution_count": 10,
   "metadata": {},
   "outputs": [
    {
     "data": {
      "text/plain": [
       "(92, 2)"
      ]
     },
     "execution_count": 10,
     "metadata": {},
     "output_type": "execute_result"
    }
   ],
   "source": [
    "# размеры датасета\n",
    "group_add_df.shape"
   ]
  },
  {
   "cell_type": "code",
   "execution_count": 11,
   "metadata": {},
   "outputs": [
    {
     "data": {
      "text/plain": [
       "id     0\n",
       "grp    0\n",
       "dtype: int64"
      ]
     },
     "execution_count": 11,
     "metadata": {},
     "output_type": "execute_result"
    }
   ],
   "source": [
    "# наличие пропусков\n",
    "group_add_df.isna().sum()"
   ]
  },
  {
   "cell_type": "markdown",
   "metadata": {},
   "source": [
    "пропусков нет"
   ]
  },
  {
   "cell_type": "code",
   "execution_count": 12,
   "metadata": {},
   "outputs": [
    {
     "data": {
      "text/plain": [
       "id     92\n",
       "grp     2\n",
       "dtype: int64"
      ]
     },
     "execution_count": 12,
     "metadata": {},
     "output_type": "execute_result"
    }
   ],
   "source": [
    "# кол-во уникальных id соответствует срокам датасета -> дублей нет\n",
    "group_add_df.nunique()"
   ]
  },
  {
   "cell_type": "markdown",
   "metadata": {},
   "source": [
    "дублей нет"
   ]
  },
  {
   "cell_type": "code",
   "execution_count": 13,
   "metadata": {},
   "outputs": [
    {
     "data": {
      "text/plain": [
       "B    70\n",
       "A    22\n",
       "Name: grp, dtype: int64"
      ]
     },
     "execution_count": 13,
     "metadata": {},
     "output_type": "execute_result"
    }
   ],
   "source": [
    "# размеры групп во втором сете данных\n",
    "group_add_df.grp.value_counts()"
   ]
  },
  {
   "cell_type": "code",
   "execution_count": 14,
   "metadata": {},
   "outputs": [
    {
     "data": {
      "text/plain": [
       "<matplotlib.axes._subplots.AxesSubplot at 0x7f29850ca9b0>"
      ]
     },
     "execution_count": 14,
     "metadata": {},
     "output_type": "execute_result"
    },
    {
     "data": {
      "image/png": "[encoded data removed]",
      "text/plain": [
       "<Figure size 432x288 with 1 Axes>"
      ]
     },
     "metadata": {
      "needs_background": "light"
     },
     "output_type": "display_data"
    }
   ],
   "source": [
    "# размеры групп на диаграмме\n",
    "sns.countplot(data = group_add_df, x = 'grp')"
   ]
  },
  {
   "cell_type": "code",
   "execution_count": 15,
   "metadata": {},
   "outputs": [
    {
     "data": {
      "text/html": [
       "<div>\n",
       "<style scoped>\n",
       "    .dataframe tbody tr th:only-of-type {\n",
       "        vertical-align: middle;\n",
       "    }\n",
       "\n",
       "    .dataframe tbody tr th {\n",
       "        vertical-align: top;\n",
       "    }\n",
       "\n",
       "    .dataframe thead th {\n",
       "        text-align: right;\n",
       "    }\n",
       "</style>\n",
       "<table border=\"1\" class=\"dataframe\">\n",
       "  <thead>\n",
       "    <tr style=\"text-align: right;\">\n",
       "      <th></th>\n",
       "      <th>student_id</th>\n",
       "    </tr>\n",
       "  </thead>\n",
       "  <tbody>\n",
       "    <tr>\n",
       "      <th>0</th>\n",
       "      <td>581585</td>\n",
       "    </tr>\n",
       "    <tr>\n",
       "      <th>1</th>\n",
       "      <td>5723133</td>\n",
       "    </tr>\n",
       "    <tr>\n",
       "      <th>2</th>\n",
       "      <td>3276743</td>\n",
       "    </tr>\n",
       "    <tr>\n",
       "      <th>3</th>\n",
       "      <td>4238589</td>\n",
       "    </tr>\n",
       "    <tr>\n",
       "      <th>4</th>\n",
       "      <td>4475369</td>\n",
       "    </tr>\n",
       "  </tbody>\n",
       "</table>\n",
       "</div>"
      ],
      "text/plain": [
       "   student_id\n",
       "0      581585\n",
       "1     5723133\n",
       "2     3276743\n",
       "3     4238589\n",
       "4     4475369"
      ]
     },
     "execution_count": 15,
     "metadata": {},
     "output_type": "execute_result"
    }
   ],
   "source": [
    "# датасет с информацией о пользователях, которые зашли на платформу в дни проведения эксперимента\n",
    "active_studs_df.head()"
   ]
  },
  {
   "cell_type": "code",
   "execution_count": 16,
   "metadata": {},
   "outputs": [
    {
     "data": {
      "text/plain": [
       "(8341, 1)"
      ]
     },
     "execution_count": 16,
     "metadata": {},
     "output_type": "execute_result"
    }
   ],
   "source": [
    "# количество активных пользователей из датасета\n",
    "active_studs_df.shape"
   ]
  },
  {
   "cell_type": "code",
   "execution_count": 17,
   "metadata": {},
   "outputs": [
    {
     "data": {
      "text/plain": [
       "student_id    8341\n",
       "dtype: int64"
      ]
     },
     "execution_count": 17,
     "metadata": {},
     "output_type": "execute_result"
    }
   ],
   "source": [
    "# все id уникальны, дублей нет\n",
    "active_studs_df.nunique()"
   ]
  },
  {
   "cell_type": "code",
   "execution_count": 18,
   "metadata": {},
   "outputs": [
    {
     "data": {
      "text/html": [
       "<div>\n",
       "<style scoped>\n",
       "    .dataframe tbody tr th:only-of-type {\n",
       "        vertical-align: middle;\n",
       "    }\n",
       "\n",
       "    .dataframe tbody tr th {\n",
       "        vertical-align: top;\n",
       "    }\n",
       "\n",
       "    .dataframe thead th {\n",
       "        text-align: right;\n",
       "    }\n",
       "</style>\n",
       "<table border=\"1\" class=\"dataframe\">\n",
       "  <thead>\n",
       "    <tr style=\"text-align: right;\">\n",
       "      <th></th>\n",
       "      <th>student_id</th>\n",
       "      <th>rev</th>\n",
       "    </tr>\n",
       "  </thead>\n",
       "  <tbody>\n",
       "    <tr>\n",
       "      <th>0</th>\n",
       "      <td>1627</td>\n",
       "      <td>990.0</td>\n",
       "    </tr>\n",
       "    <tr>\n",
       "      <th>1</th>\n",
       "      <td>3185</td>\n",
       "      <td>690.0</td>\n",
       "    </tr>\n",
       "    <tr>\n",
       "      <th>2</th>\n",
       "      <td>25973</td>\n",
       "      <td>690.0</td>\n",
       "    </tr>\n",
       "    <tr>\n",
       "      <th>3</th>\n",
       "      <td>26280</td>\n",
       "      <td>690.0</td>\n",
       "    </tr>\n",
       "    <tr>\n",
       "      <th>4</th>\n",
       "      <td>100300</td>\n",
       "      <td>990.0</td>\n",
       "    </tr>\n",
       "  </tbody>\n",
       "</table>\n",
       "</div>"
      ],
      "text/plain": [
       "   student_id    rev\n",
       "0        1627  990.0\n",
       "1        3185  690.0\n",
       "2       25973  690.0\n",
       "3       26280  690.0\n",
       "4      100300  990.0"
      ]
     },
     "execution_count": 18,
     "metadata": {},
     "output_type": "execute_result"
    }
   ],
   "source": [
    "# датасет с информацией об оплатах пользователей в дни проведения эксперимента\n",
    "checks_df.head()"
   ]
  },
  {
   "cell_type": "code",
   "execution_count": 19,
   "metadata": {},
   "outputs": [
    {
     "data": {
      "text/plain": [
       "(541, 2)"
      ]
     },
     "execution_count": 19,
     "metadata": {},
     "output_type": "execute_result"
    }
   ],
   "source": [
    "# размер датасета\n",
    "checks_df.shape"
   ]
  },
  {
   "cell_type": "code",
   "execution_count": 20,
   "metadata": {},
   "outputs": [
    {
     "data": {
      "text/html": [
       "<div>\n",
       "<style scoped>\n",
       "    .dataframe tbody tr th:only-of-type {\n",
       "        vertical-align: middle;\n",
       "    }\n",
       "\n",
       "    .dataframe tbody tr th {\n",
       "        vertical-align: top;\n",
       "    }\n",
       "\n",
       "    .dataframe thead th {\n",
       "        text-align: right;\n",
       "    }\n",
       "</style>\n",
       "<table border=\"1\" class=\"dataframe\">\n",
       "  <thead>\n",
       "    <tr style=\"text-align: right;\">\n",
       "      <th></th>\n",
       "      <th>student_id</th>\n",
       "      <th>rev</th>\n",
       "    </tr>\n",
       "  </thead>\n",
       "  <tbody>\n",
       "    <tr>\n",
       "      <th>count</th>\n",
       "      <td>5.410000e+02</td>\n",
       "      <td>541.000000</td>\n",
       "    </tr>\n",
       "    <tr>\n",
       "      <th>mean</th>\n",
       "      <td>2.514772e+06</td>\n",
       "      <td>1059.752317</td>\n",
       "    </tr>\n",
       "    <tr>\n",
       "      <th>std</th>\n",
       "      <td>1.726839e+06</td>\n",
       "      <td>762.712359</td>\n",
       "    </tr>\n",
       "    <tr>\n",
       "      <th>min</th>\n",
       "      <td>1.627000e+03</td>\n",
       "      <td>199.000000</td>\n",
       "    </tr>\n",
       "    <tr>\n",
       "      <th>25%</th>\n",
       "      <td>9.871290e+05</td>\n",
       "      <td>290.000000</td>\n",
       "    </tr>\n",
       "    <tr>\n",
       "      <th>50%</th>\n",
       "      <td>2.526021e+06</td>\n",
       "      <td>840.000000</td>\n",
       "    </tr>\n",
       "    <tr>\n",
       "      <th>75%</th>\n",
       "      <td>3.993249e+06</td>\n",
       "      <td>1900.000000</td>\n",
       "    </tr>\n",
       "    <tr>\n",
       "      <th>max</th>\n",
       "      <td>5.740903e+06</td>\n",
       "      <td>4650.000000</td>\n",
       "    </tr>\n",
       "  </tbody>\n",
       "</table>\n",
       "</div>"
      ],
      "text/plain": [
       "         student_id          rev\n",
       "count  5.410000e+02   541.000000\n",
       "mean   2.514772e+06  1059.752317\n",
       "std    1.726839e+06   762.712359\n",
       "min    1.627000e+03   199.000000\n",
       "25%    9.871290e+05   290.000000\n",
       "50%    2.526021e+06   840.000000\n",
       "75%    3.993249e+06  1900.000000\n",
       "max    5.740903e+06  4650.000000"
      ]
     },
     "execution_count": 20,
     "metadata": {},
     "output_type": "execute_result"
    }
   ],
   "source": [
    "# из детальной информации о датасете с чеками видим, что разброс оплат составил от 199 до 4650\n",
    "checks_df.describe()"
   ]
  },
  {
   "cell_type": "code",
   "execution_count": 21,
   "metadata": {},
   "outputs": [
    {
     "data": {
      "text/plain": [
       "student_id    0\n",
       "rev           0\n",
       "dtype: int64"
      ]
     },
     "execution_count": 21,
     "metadata": {},
     "output_type": "execute_result"
    }
   ],
   "source": [
    "checks_df.isna().sum()\n",
    "# пустых значений нет"
   ]
  },
  {
   "cell_type": "code",
   "execution_count": 22,
   "metadata": {},
   "outputs": [
    {
     "data": {
      "text/plain": [
       "student_id    541\n",
       "rev            39\n",
       "dtype: int64"
      ]
     },
     "execution_count": 22,
     "metadata": {},
     "output_type": "execute_result"
    }
   ],
   "source": [
    "checks_df.nunique()\n",
    "# все id уникальны, кол-во соответвует размеру датасета, дублей нет"
   ]
  },
  {
   "cell_type": "code",
   "execution_count": 23,
   "metadata": {},
   "outputs": [],
   "source": [
    "# сразу сохраним общую сумму оплат для возможной будущей проверки\n",
    "total_sum = checks_df.rev.sum()"
   ]
  },
  {
   "cell_type": "code",
   "execution_count": 24,
   "metadata": {},
   "outputs": [
    {
     "data": {
      "text/plain": [
       "74576"
      ]
     },
     "execution_count": 24,
     "metadata": {},
     "output_type": "execute_result"
    }
   ],
   "source": [
    "# добавим к первоначальным данным дополнительные и сверим по количеству уникальных пользователей\n",
    "df = groups_df.append(group_add_df)\n",
    "df.id.nunique()"
   ]
  },
  {
   "cell_type": "code",
   "execution_count": 25,
   "metadata": {},
   "outputs": [
    {
     "data": {
      "text/plain": [
       "74576"
      ]
     },
     "execution_count": 25,
     "metadata": {},
     "output_type": "execute_result"
    }
   ],
   "source": [
    "groups_df.id.nunique() + group_add_df.id.nunique()"
   ]
  },
  {
   "cell_type": "markdown",
   "metadata": {},
   "source": [
    "**Цифры совпадают!** Значит во втором датасете присутствуют данные только о новых пользователях. В противном случае в объединенной таблице df уникальных пользователей было бы меньше. Идем дальше.\n",
    "\n",
    "---\n",
    "#### Итак, все готово для начала анализа. Но сначала определим цели!"
   ]
  },
  {
   "cell_type": "markdown",
   "metadata": {},
   "source": [
    "### Какие метрики можно применить? Что именно должно улучшиться?\n",
    "Новая механика оплаты услуг на сайте преследует ключевую цель:\n",
    "**Увеличение дохода с продаж курсов**\n",
    "\n",
    "**Важно!** Оценивать улучшения будем только по <u>активным пользователям</u> - тем, что зашли на платформу в дни эксперимента!\n",
    "\n",
    "Для оценки улучшений я предлагаю использовать следующие *метрики*:\n",
    "\n",
    " - **увеличение дохода:**\n",
    "* *ARPAU* - чтобы понимать, стали ли больше платить активные пользователи?\n",
    "* *ARPAPU* - для отслеживания изменения среднего дохода с платящего активного пользователя.\n",
    "\n",
    "!!! Отдельно отмечу, что мы не можем рассматривать метрику AOV (cредний чек), так как не располагаем данными о количестве покупок каждого пользователя.\n",
    "\n",
    "\n",
    " - **оптимизация воронки продаж:**\n",
    "* *СR активного пользователя в покупателя* - стало ли больше покупателей среди активных пользователей?\n",
    "\n",
    "**Указанные метрики рассчитаем для целевой (В) и контрольной (А) групп.**"
   ]
  },
  {
   "cell_type": "markdown",
   "metadata": {},
   "source": [
    "### А какое минимальное улучшение мы сможем \"поймать\" A/B-тестом?\n",
    "Для проведения корректного A/B-тестирования необходимо понять, для обнаружения какого минимального размера различий достаточна имеющаяся выборка? Вообще это делают на этапе сплитования, при определении размера групп, но мы убедимся, какого размера различия позволяют задетектировать наши группы.\n",
    "\n",
    "Проведём оценку **минимального детектируемого эффекта (MDE)**  с применением функции библиотеки pingouin"
   ]
  },
  {
   "cell_type": "code",
   "execution_count": 26,
   "metadata": {},
   "outputs": [
    {
     "name": "stdout",
     "output_type": "stream",
     "text": [
      "Минимальный детектируемый эффект(MDE)\n",
      "для теста Хи-квадрат: 1 %\n"
     ]
    }
   ],
   "source": [
    "# размер выборки берем из исходных данных по основному и дополнительному датасету\n",
    "obs_size = df.id.nunique()\n",
    "# вероятность ошибки I рода:отклонить нулевую гипотезу, хотя она верна (возьмем стандарт)\n",
    "alpha = 0.05\n",
    "# мощность (вероятность обнаружить различия, когда они реально есть (т.е. не совершить ошибку II рода)) \n",
    "# примем тоже стандартно\n",
    "power = 0.8\n",
    "# число степеней свободы dof принимаем равным 1 (считаем по таблице сопряженности)\n",
    "print('Минимальный детектируемый эффект(MDE)\\nдля теста Хи-квадрат: %.0f' %\\\n",
    "      (pg.power_chi2(dof=1, n=obs_size, power=0.80, alpha=alpha) * 100), '%')"
   ]
  },
  {
   "cell_type": "code",
   "execution_count": 27,
   "metadata": {},
   "outputs": [
    {
     "name": "stdout",
     "output_type": "stream",
     "text": [
      "для Т-теста: 1 %\n"
     ]
    }
   ],
   "source": [
    "print('для Т-теста: %.0f' %\\\n",
    "      (pg.power_ttest(n=obs_size, power=0.80, alpha=alpha, contrast='paired') * 100), '%')"
   ]
  },
  {
   "cell_type": "markdown",
   "metadata": {},
   "source": [
    "Это значит, что при A/B-тесте могут быть обнаружены отклонения более 0,01. Для нас этого достаточно!"
   ]
  },
  {
   "cell_type": "markdown",
   "metadata": {},
   "source": [
    "### Собираем данные для анализа"
   ]
  },
  {
   "cell_type": "markdown",
   "metadata": {},
   "source": [
    "План действий:\n",
    "- выберем из основного датасета с группами (df) только активных студентов с помощью объединения 'inner'\n",
    "- \"подтянем\" к полученному датафрейму чеки\n",
    "- значения NaN заменим на нули\n",
    "- заменим тип данных на целые числа (int) для удобства восприятия"
   ]
  },
  {
   "cell_type": "code",
   "execution_count": 28,
   "metadata": {},
   "outputs": [],
   "source": [
    "# переименуем столбцы для объединения\n",
    "active_studs_df=active_studs_df.rename(columns={'student_id': 'id'})\n",
    "checks_df=checks_df.rename(columns={'student_id': 'id'}).assign(paid=1)"
   ]
  },
  {
   "cell_type": "code",
   "execution_count": 29,
   "metadata": {},
   "outputs": [
    {
     "data": {
      "text/html": [
       "<div>\n",
       "<style scoped>\n",
       "    .dataframe tbody tr th:only-of-type {\n",
       "        vertical-align: middle;\n",
       "    }\n",
       "\n",
       "    .dataframe tbody tr th {\n",
       "        vertical-align: top;\n",
       "    }\n",
       "\n",
       "    .dataframe thead th {\n",
       "        text-align: right;\n",
       "    }\n",
       "</style>\n",
       "<table border=\"1\" class=\"dataframe\">\n",
       "  <thead>\n",
       "    <tr style=\"text-align: right;\">\n",
       "      <th></th>\n",
       "      <th>id</th>\n",
       "      <th>grp</th>\n",
       "      <th>rev</th>\n",
       "      <th>paid</th>\n",
       "    </tr>\n",
       "  </thead>\n",
       "  <tbody>\n",
       "    <tr>\n",
       "      <th>0</th>\n",
       "      <td>1627</td>\n",
       "      <td>A</td>\n",
       "      <td>990</td>\n",
       "      <td>1</td>\n",
       "    </tr>\n",
       "    <tr>\n",
       "      <th>1</th>\n",
       "      <td>2085</td>\n",
       "      <td>B</td>\n",
       "      <td>0</td>\n",
       "      <td>0</td>\n",
       "    </tr>\n",
       "    <tr>\n",
       "      <th>2</th>\n",
       "      <td>2215</td>\n",
       "      <td>B</td>\n",
       "      <td>0</td>\n",
       "      <td>0</td>\n",
       "    </tr>\n",
       "    <tr>\n",
       "      <th>3</th>\n",
       "      <td>3391</td>\n",
       "      <td>A</td>\n",
       "      <td>0</td>\n",
       "      <td>0</td>\n",
       "    </tr>\n",
       "    <tr>\n",
       "      <th>4</th>\n",
       "      <td>3401</td>\n",
       "      <td>B</td>\n",
       "      <td>0</td>\n",
       "      <td>0</td>\n",
       "    </tr>\n",
       "  </tbody>\n",
       "</table>\n",
       "</div>"
      ],
      "text/plain": [
       "     id grp  rev  paid\n",
       "0  1627   A  990     1\n",
       "1  2085   B    0     0\n",
       "2  2215   B    0     0\n",
       "3  3391   A    0     0\n",
       "4  3401   B    0     0"
      ]
     },
     "execution_count": 29,
     "metadata": {},
     "output_type": "execute_result"
    }
   ],
   "source": [
    "# данные для анализа\n",
    "data=df\\\n",
    "    .merge(active_studs_df, on='id', how='inner')\\\n",
    "    .merge(checks_df, on='id', how='left')\\\n",
    "    .fillna(0) \\\n",
    "    .astype({'rev': int, 'paid': int})\n",
    "data.head()"
   ]
  },
  {
   "cell_type": "markdown",
   "metadata": {},
   "source": [
    "## Рассчитываем метрики по группам"
   ]
  },
  {
   "cell_type": "code",
   "execution_count": 30,
   "metadata": {},
   "outputs": [
    {
     "data": {
      "text/html": [
       "<div>\n",
       "<style scoped>\n",
       "    .dataframe tbody tr th:only-of-type {\n",
       "        vertical-align: middle;\n",
       "    }\n",
       "\n",
       "    .dataframe tbody tr th {\n",
       "        vertical-align: top;\n",
       "    }\n",
       "\n",
       "    .dataframe thead th {\n",
       "        text-align: right;\n",
       "    }\n",
       "</style>\n",
       "<table border=\"1\" class=\"dataframe\">\n",
       "  <thead>\n",
       "    <tr style=\"text-align: right;\">\n",
       "      <th></th>\n",
       "      <th>grp</th>\n",
       "      <th>id</th>\n",
       "      <th>paid</th>\n",
       "      <th>rev</th>\n",
       "      <th>CR</th>\n",
       "      <th>ARPAU</th>\n",
       "      <th>ARPAPU</th>\n",
       "    </tr>\n",
       "  </thead>\n",
       "  <tbody>\n",
       "    <tr>\n",
       "      <th>0</th>\n",
       "      <td>A</td>\n",
       "      <td>1538</td>\n",
       "      <td>78</td>\n",
       "      <td>72820</td>\n",
       "      <td>5.07</td>\n",
       "      <td>47.35</td>\n",
       "      <td>933.59</td>\n",
       "    </tr>\n",
       "    <tr>\n",
       "      <th>1</th>\n",
       "      <td>B</td>\n",
       "      <td>6803</td>\n",
       "      <td>314</td>\n",
       "      <td>394974</td>\n",
       "      <td>4.62</td>\n",
       "      <td>58.06</td>\n",
       "      <td>1257.88</td>\n",
       "    </tr>\n",
       "  </tbody>\n",
       "</table>\n",
       "</div>"
      ],
      "text/plain": [
       "  grp    id  paid     rev    CR  ARPAU   ARPAPU\n",
       "0   A  1538    78   72820  5.07  47.35   933.59\n",
       "1   B  6803   314  394974  4.62  58.06  1257.88"
      ]
     },
     "execution_count": 30,
     "metadata": {},
     "output_type": "execute_result"
    }
   ],
   "source": [
    "metr_df=data \\\n",
    "    .groupby('grp', as_index=False).agg({'id': 'count', 'paid': 'sum', 'rev': 'sum'})\\\n",
    "    .assign(CR=lambda x:round (x.paid/x.id * 100, 2))\\\n",
    "    .assign(ARPAU=lambda x:round (x.rev/x.id, 2))\\\n",
    "    .assign(ARPAPU=lambda x:round (x.rev/x.paid, 2))\n",
    "metr_df"
   ]
  },
  {
   "cell_type": "markdown",
   "metadata": {},
   "source": [
    "Проверим, всю ли выручку принесли активные пользователи в дни эксперимента"
   ]
  },
  {
   "cell_type": "code",
   "execution_count": 31,
   "metadata": {},
   "outputs": [
    {
     "name": "stdout",
     "output_type": "stream",
     "text": [
      "Сумма выручки в дни эксперимента: 573326.0\n",
      "Выручка от активных пользователей: 467794\n",
      "Неактивные пользователи как-то оплатили в дни эксперимента: 105532.0\n"
     ]
    }
   ],
   "source": [
    "if metr_df.rev.sum() == total_sum:\n",
    "    print ('Всю выручку в дни эксперимента сделали активные пользователи')\n",
    "else:\n",
    "    print('Сумма выручки в дни эксперимента:', round(total_sum, 2))\n",
    "    print('Выручка от активных пользователей:', metr_df.rev.sum().round(2))\n",
    "    print('Неактивные пользователи как-то оплатили в дни эксперимента:', round(total_sum - metr_df.rev.sum(), 2))"
   ]
  },
  {
   "cell_type": "markdown",
   "metadata": {},
   "source": [
    "Возможно, есть способ оплаты без захода на платформу.\n",
    "\n",
    "---\n",
    "### Переходим к анализу метрик в группах"
   ]
  },
  {
   "cell_type": "markdown",
   "metadata": {},
   "source": [
    "* **CR - конверсия активного пользователя в покупателя**"
   ]
  },
  {
   "cell_type": "code",
   "execution_count": 32,
   "metadata": {},
   "outputs": [
    {
     "name": "stdout",
     "output_type": "stream",
     "text": [
      "Конверсия активного пользователя в покупателя изменилась на -8.9 %\n"
     ]
    }
   ],
   "source": [
    "print ('Конверсия активного пользователя в покупателя изменилась на %.1f' %\\\n",
    "       ((metr_df.CR[1]/metr_df.CR[0] - 1) * 100),'%')"
   ]
  },
  {
   "cell_type": "markdown",
   "metadata": {},
   "source": [
    "При новом механизме оплаты **конверсия активного пользователя в покупателя снижается**. "
   ]
  },
  {
   "cell_type": "markdown",
   "metadata": {},
   "source": [
    "Оценим тестом Хи-квадрат, является ли данное изменение статзначимым  \n",
    "**Нулевая гипотеза (H0)** : CR пользователей НЕ МЕНЯЕТСЯ от нового механизма оплаты, в генеральной совокупности она одинаковая \n",
    "**Альтернативная гипотеза (H1)** : разница в CR  пользователей есть"
   ]
  },
  {
   "cell_type": "code",
   "execution_count": 33,
   "metadata": {},
   "outputs": [
    {
     "data": {
      "text/html": [
       "<div>\n",
       "<style scoped>\n",
       "    .dataframe tbody tr th:only-of-type {\n",
       "        vertical-align: middle;\n",
       "    }\n",
       "\n",
       "    .dataframe tbody tr th {\n",
       "        vertical-align: top;\n",
       "    }\n",
       "\n",
       "    .dataframe thead th {\n",
       "        text-align: right;\n",
       "    }\n",
       "</style>\n",
       "<table border=\"1\" class=\"dataframe\">\n",
       "  <thead>\n",
       "    <tr style=\"text-align: right;\">\n",
       "      <th>paid</th>\n",
       "      <th>0</th>\n",
       "      <th>1</th>\n",
       "    </tr>\n",
       "    <tr>\n",
       "      <th>grp</th>\n",
       "      <th></th>\n",
       "      <th></th>\n",
       "    </tr>\n",
       "  </thead>\n",
       "  <tbody>\n",
       "    <tr>\n",
       "      <th>A</th>\n",
       "      <td>1460</td>\n",
       "      <td>78</td>\n",
       "    </tr>\n",
       "    <tr>\n",
       "      <th>B</th>\n",
       "      <td>6489</td>\n",
       "      <td>314</td>\n",
       "    </tr>\n",
       "  </tbody>\n",
       "</table>\n",
       "</div>"
      ],
      "text/plain": [
       "paid     0    1\n",
       "grp            \n",
       "A     1460   78\n",
       "B     6489  314"
      ]
     },
     "execution_count": 33,
     "metadata": {},
     "output_type": "execute_result"
    }
   ],
   "source": [
    "# таблица сопряженности\n",
    "obs = pd.crosstab(data.grp, data.paid)\n",
    "\"\"\"\n",
    "Состав групп:\n",
    "0 - пользователь\n",
    "1 - покупатель\n",
    "\"\"\"\n",
    "obs"
   ]
  },
  {
   "cell_type": "code",
   "execution_count": 34,
   "metadata": {},
   "outputs": [
    {
     "data": {
      "text/plain": [
       "(0.48480826522557896,\n",
       " 0.48625240457231045,\n",
       " 1,\n",
       " array([[1465.71897854,   72.28102146],\n",
       "        [6483.28102146,  319.71897854]]))"
      ]
     },
     "execution_count": 34,
     "metadata": {},
     "output_type": "execute_result"
    }
   ],
   "source": [
    "# применим тест Хи-квадрат к таблице сопряженности\n",
    "res = ss.chi2_contingency(obs)\n",
    "res"
   ]
  },
  {
   "cell_type": "code",
   "execution_count": 35,
   "metadata": {},
   "outputs": [
    {
     "name": "stdout",
     "output_type": "stream",
     "text": [
      "p-value = 0.49\n"
     ]
    }
   ],
   "source": [
    "print('p-value =', round(res[1],2))"
   ]
  },
  {
   "cell_type": "markdown",
   "metadata": {},
   "source": [
    "pvalue > 0.05.\n",
    "Это означает, что мы можем отклонить основную гипотезу(H0), а именно: в генеральной совокупности различия в CR нет. Конверсия пользователя в покупателя стат значимо не изменяется."
   ]
  },
  {
   "cell_type": "markdown",
   "metadata": {},
   "source": [
    "* **ARPAU - средний доход с активного пользователя**"
   ]
  },
  {
   "cell_type": "code",
   "execution_count": 36,
   "metadata": {},
   "outputs": [
    {
     "data": {
      "text/plain": [
       "0    47.35\n",
       "1    58.06\n",
       "Name: ARPAU, dtype: float64"
      ]
     },
     "execution_count": 36,
     "metadata": {},
     "output_type": "execute_result"
    }
   ],
   "source": [
    "# ARPAU для тестовой и контрольной групп\n",
    "metr_df.ARPAU"
   ]
  },
  {
   "cell_type": "code",
   "execution_count": 37,
   "metadata": {},
   "outputs": [
    {
     "name": "stdout",
     "output_type": "stream",
     "text": [
      "Увеличение ARPAU в тестовой группе на 22.6 %\n"
     ]
    }
   ],
   "source": [
    "print ('Увеличение ARPAU в тестовой группе на %.1f' %\\\n",
    "       ((metr_df.ARPAU[1]/metr_df.ARPAU[0]-1) * 100),'%')"
   ]
  },
  {
   "cell_type": "markdown",
   "metadata": {},
   "source": [
    "То есть, в целом активные пользователи в системе с новым механизмом оплаты стали тратить больше! \n",
    "#### Оценим эту разницу с помощью A/B-теста"
   ]
  },
  {
   "cell_type": "markdown",
   "metadata": {},
   "source": [
    "Перед проведением А/В-тестов с дискретными величинами (выручка) сформулируем нулевую (H0) и альтернативную гипотезы (H1):  \n",
    "**H0:** между ARPU в генеральной совокупности нет различий в средней выручке  \n",
    "**H1:** между ARPU в группах есть стат. значимые различия в средней выручке"
   ]
  },
  {
   "cell_type": "code",
   "execution_count": 38,
   "metadata": {},
   "outputs": [
    {
     "data": {
      "text/plain": [
       "0    1538\n",
       "1    6803\n",
       "Name: id, dtype: int64"
      ]
     },
     "execution_count": 38,
     "metadata": {},
     "output_type": "execute_result"
    }
   ],
   "source": [
    "# выделим группы для последующего теста\n",
    "test=data.query(\"grp == 'A'\").rev\n",
    "control=data.query(\"grp == 'B'\").rev\n",
    "\n",
    "# размеры групп\n",
    "# количество пользователей в тестовой и контрольной группах\n",
    "metr_df.id"
   ]
  },
  {
   "cell_type": "code",
   "execution_count": 39,
   "metadata": {},
   "outputs": [
    {
     "data": {
      "text/plain": [
       "<seaborn.axisgrid.FacetGrid at 0x7f2985004588>"
      ]
     },
     "execution_count": 39,
     "metadata": {},
     "output_type": "execute_result"
    },
    {
     "data": {
      "image/png": "[encoded data removed]",
      "text/plain": [
       "<Figure size 402.875x360 with 1 Axes>"
      ]
     },
     "metadata": {
      "needs_background": "light"
     },
     "output_type": "display_data"
    }
   ],
   "source": [
    "# распределение сумм чеков в группах на гистограмме\n",
    "sns.displot(data=data, x='rev', hue='grp')"
   ]
  },
  {
   "cell_type": "markdown",
   "metadata": {},
   "source": [
    "Распределение также не является нормальным, однако количество наблюдений значительное (> 1000 в каждой группе) - попробуем оценить значимость различия средней выручки с помощью Т-теста"
   ]
  },
  {
   "cell_type": "code",
   "execution_count": 40,
   "metadata": {},
   "outputs": [
    {
     "data": {
      "text/plain": [
       "Ttest_indResult(statistic=-1.2253410584082978, pvalue=0.22048135171233407)"
      ]
     },
     "execution_count": 40,
     "metadata": {},
     "output_type": "execute_result"
    }
   ],
   "source": [
    "ss.ttest_ind(test, control)"
   ]
  },
  {
   "cell_type": "markdown",
   "metadata": {},
   "source": [
    "**Вывод:** Т-тест показывает уровень значимости p-value = 0.22, и **оснований отклонить нулевую гипотезу у нас нет**. То есть средняя выручка на активного пользователя не различается в генеральной совокупности. Но здесь может оказать влияние ненормальность распределения. Проверим еще одну метрику."
   ]
  },
  {
   "cell_type": "markdown",
   "metadata": {},
   "source": [
    "* **ARPAPU - средний доход с платящего активного пользователя**"
   ]
  },
  {
   "cell_type": "code",
   "execution_count": 41,
   "metadata": {},
   "outputs": [
    {
     "data": {
      "text/plain": [
       "0     933.59\n",
       "1    1257.88\n",
       "Name: ARPAPU, dtype: float64"
      ]
     },
     "execution_count": 41,
     "metadata": {},
     "output_type": "execute_result"
    }
   ],
   "source": [
    "# значения метрик в контрольной и тестовой группах\n",
    "metr_df.ARPAPU"
   ]
  },
  {
   "cell_type": "code",
   "execution_count": 42,
   "metadata": {},
   "outputs": [
    {
     "name": "stdout",
     "output_type": "stream",
     "text": [
      "Увеличение ARPAPU в тестовой группе на 34.7 %\n"
     ]
    }
   ],
   "source": [
    "print ('Увеличение ARPAPU в тестовой группе на %.1f' %\\\n",
    "       ((metr_df.ARPAPU[1]/metr_df.ARPAPU[0]-1) * 100),'%')"
   ]
  },
  {
   "cell_type": "markdown",
   "metadata": {},
   "source": [
    "Это означает, что активные пользователи, совершающие оплату, стали приносить больше выручки!"
   ]
  },
  {
   "cell_type": "code",
   "execution_count": 43,
   "metadata": {},
   "outputs": [],
   "source": [
    "# выделим группы для последующего теста\n",
    "test=data.query(\"paid == 1 and grp == 'A'\").rev\n",
    "control=data.query(\"paid == 1 and grp == 'B'\").rev"
   ]
  },
  {
   "cell_type": "code",
   "execution_count": 44,
   "metadata": {},
   "outputs": [
    {
     "data": {
      "text/plain": [
       "0     78\n",
       "1    314\n",
       "Name: paid, dtype: int64"
      ]
     },
     "execution_count": 44,
     "metadata": {},
     "output_type": "execute_result"
    }
   ],
   "source": [
    "# размеры групп\n",
    "# количество пользователей, совершивших оплату, в тестовой и контрольной группах\n",
    "metr_df.paid"
   ]
  },
  {
   "cell_type": "code",
   "execution_count": 45,
   "metadata": {},
   "outputs": [
    {
     "data": {
      "text/plain": [
       "<matplotlib.axes._subplots.AxesSubplot at 0x7f2984f08b70>"
      ]
     },
     "execution_count": 45,
     "metadata": {},
     "output_type": "execute_result"
    },
    {
     "data": {
      "image/png": "[encoded data removed]",
      "text/plain": [
       "<Figure size 432x288 with 1 Axes>"
      ]
     },
     "metadata": {
      "needs_background": "light"
     },
     "output_type": "display_data"
    }
   ],
   "source": [
    "# выборки сумм чеков тестовой и контрольной группы на боксплоте\n",
    "sns.boxplot(data=data.query('paid == 1'), x='rev', y='grp')"
   ]
  },
  {
   "cell_type": "markdown",
   "metadata": {},
   "source": [
    "Как мы видим, в тестовой и контрольной группе есть выбросы (черные точки справа)"
   ]
  },
  {
   "cell_type": "code",
   "execution_count": 46,
   "metadata": {},
   "outputs": [
    {
     "data": {
      "text/plain": [
       "<seaborn.axisgrid.FacetGrid at 0x7f2984e85710>"
      ]
     },
     "execution_count": 46,
     "metadata": {},
     "output_type": "execute_result"
    },
    {
     "data": {
      "image/png": "[encoded data removed]",
      "text/plain": [
       "<Figure size 402.875x360 with 1 Axes>"
      ]
     },
     "metadata": {
      "needs_background": "light"
     },
     "output_type": "display_data"
    }
   ],
   "source": [
    "# распределение сумм чеков в группах на гистограмме\n",
    "sns.displot(data=data.query('paid == 1'), x='rev', hue='grp')"
   ]
  },
  {
   "cell_type": "markdown",
   "metadata": {},
   "source": [
    "Судя по гистограмме, оба распределения не являются нормальными. Проверим это утверждение тестами."
   ]
  },
  {
   "cell_type": "code",
   "execution_count": 47,
   "metadata": {},
   "outputs": [
    {
     "data": {
      "text/plain": [
       "NormaltestResult(statistic=30.378419638487475, pvalue=2.5316868804220266e-07)"
      ]
     },
     "execution_count": 47,
     "metadata": {},
     "output_type": "execute_result"
    }
   ],
   "source": [
    "# тест на нормальность распределения размера выручки целевой группы\n",
    "ss.normaltest(test)"
   ]
  },
  {
   "cell_type": "markdown",
   "metadata": {},
   "source": [
    "Значение pvalue < 0.05, значит мы **отклоняем нулевую гипотезу, что распределение нормальное**"
   ]
  },
  {
   "cell_type": "markdown",
   "metadata": {},
   "source": [
    "На малых выборках нормальность распределения можно также проверить тестом Шапиро-Уилка"
   ]
  },
  {
   "cell_type": "code",
   "execution_count": 48,
   "metadata": {},
   "outputs": [
    {
     "data": {
      "text/plain": [
       "ShapiroResult(statistic=0.7353236079216003, pvalue=1.4986822893803264e-10)"
      ]
     },
     "execution_count": 48,
     "metadata": {},
     "output_type": "execute_result"
    }
   ],
   "source": [
    "# Тест Шапиро-Уилка на нормальность\n",
    "ss.shapiro(test)"
   ]
  },
  {
   "cell_type": "markdown",
   "metadata": {},
   "source": [
    "Значение pvalue < 0.05, то есть распределение сумм чеков в тестовой группе **значимо отличается от нормального!**"
   ]
  },
  {
   "cell_type": "markdown",
   "metadata": {},
   "source": [
    "Аналогично проверим на нормальность распределения значений в контрольной группе"
   ]
  },
  {
   "cell_type": "code",
   "execution_count": 49,
   "metadata": {},
   "outputs": [
    {
     "data": {
      "text/plain": [
       "NormaltestResult(statistic=6.79566391927267, pvalue=0.03344570304722356)"
      ]
     },
     "execution_count": 49,
     "metadata": {},
     "output_type": "execute_result"
    }
   ],
   "source": [
    "ss.normaltest(control)"
   ]
  },
  {
   "cell_type": "code",
   "execution_count": 50,
   "metadata": {},
   "outputs": [
    {
     "data": {
      "text/plain": [
       "ShapiroResult(statistic=0.854723334312439, pvalue=1.5436537542021223e-16)"
      ]
     },
     "execution_count": 50,
     "metadata": {},
     "output_type": "execute_result"
    }
   ],
   "source": [
    "ss.shapiro(control)"
   ]
  },
  {
   "cell_type": "markdown",
   "metadata": {},
   "source": [
    "значение pvalue < 0.05 в обоих тестах. **Распределение сумм чеков в контрольной группе не является нормальным**"
   ]
  },
  {
   "cell_type": "markdown",
   "metadata": {},
   "source": [
    "Для оценки статзначимости различий средних доходов с активного платящего пользователя в группах применить Т-тест уже не получится, так как размер выборки мал и распределения не являются нормальным.  \n",
    "Поэтому проведем A/B-тест с помощью метода **Bootstrap!**"
   ]
  },
  {
   "cell_type": "code",
   "execution_count": 51,
   "metadata": {},
   "outputs": [
    {
     "data": {
      "text/plain": [
       "BootstrapResult(confidence_interval=ConfidenceInterval(low=753.4341397321149, high=1164.8048898111992), standard_error=103.24195920213404)"
      ]
     },
     "execution_count": 51,
     "metadata": {},
     "output_type": "execute_result"
    }
   ],
   "source": [
    "# тестовая группа \n",
    "# оценка доверительного интервала среднего значения\n",
    "ss.bootstrap((test, ), np.mean)"
   ]
  },
  {
   "cell_type": "code",
   "execution_count": 52,
   "metadata": {},
   "outputs": [
    {
     "data": {
      "text/plain": [
       "BootstrapResult(confidence_interval=ConfidenceInterval(low=1171.822180239366, high=1347.2115919855448), standard_error=44.61845608467106)"
      ]
     },
     "execution_count": 52,
     "metadata": {},
     "output_type": "execute_result"
    }
   ],
   "source": [
    "# контрольная группа\n",
    "# оценка доверительного интервала среднего значения\n",
    "ss.bootstrap((control, ), np.mean)"
   ]
  },
  {
   "cell_type": "markdown",
   "metadata": {},
   "source": [
    "**Вывод:** Так как доверительные интервалы средних сумм чеков (значения low-high) не пересекаются, то **различие ARPAPU в группах можно считать статзначимым**. Принимаем альтернативную гипотезу (H1)."
   ]
  },
  {
   "cell_type": "markdown",
   "metadata": {},
   "source": [
    "### Итак, подведем итоги эксперимента\n",
    "    1. Для понимания улучшений были выбраны три метрики поведения активных пользователей.\n",
    "    \n",
    "    2. Анализ конверсии пользователей в покупателя (CR) показал снижение на 8.9% в тествой группе. Меньше пользователей стали совершать покупку по сравнению с контрольной группой. Это плохо, но тест Хи-квадрат показывает, что данное изменение не является стат значимым, что позволяет сделать вывод об отсуствии влияния нового механизма на конверсию в покупателя.\n",
    "    \n",
    "    3. А вот средняя выручка с пользователя (ARPAU) в тестовой группе в дни эксперимента растет на 22.6%. Однако A/B-тест не позволяет нам с уверенностью принять это увеличение.\n",
    "    \n",
    "    4. Лучше обстоит дело с метрикой ARPAPU - средним доходом на платящего активного пользователя, результат A/B-теста дает все основания считать, что есть стат значимое различие между средней выручкой в группах (увеличение на 34.7% в тестовой группе).  "
   ]
  },
  {
   "cell_type": "markdown",
   "metadata": {},
   "source": [
    "### ВЫВОД:  Таким образом, новый механизм оплаты стат значимо увеличивает в целевой группе средний доход на платящего активного пользователя на 34.7%.   \n",
    "### <u>Можно рекомендовать к запуску на всех пользователей</u>"
   ]
  },
  {
   "cell_type": "code",
   "execution_count": null,
   "metadata": {},
   "outputs": [],
   "source": []
  },
  {
   "cell_type": "markdown",
   "metadata": {},
   "source": [
    "### Задание 2: SQL\n",
    "\n",
    "#### 2.1 Очень усердные ученики\n",
    "Необходимо написать оптимальный запрос, который даст информацию о количестве очень усердных студентов.NB! Под усердным студентом мы понимаем студента, который правильно решил 20 задач за текущий месяц."
   ]
  },
  {
   "cell_type": "code",
   "execution_count": 53,
   "metadata": {},
   "outputs": [],
   "source": [
    "# задаем параметры подключения\n",
    "connection={'host': 'https://clickhouse.lab.karpov.courses',\n",
    "                      'database':'default',\n",
    "                      'user':'student', \n",
    "                      'password':'dpo_python_2020'\n",
    "                     }"
   ]
  },
  {
   "cell_type": "markdown",
   "metadata": {},
   "source": [
    "Изначально нам неизвестно, за какой период представлены данные, сделаем предвариетльный запрос, чтобы это выяснить"
   ]
  },
  {
   "cell_type": "code",
   "execution_count": 54,
   "metadata": {},
   "outputs": [
    {
     "data": {
      "text/html": [
       "<div>\n",
       "<style scoped>\n",
       "    .dataframe tbody tr th:only-of-type {\n",
       "        vertical-align: middle;\n",
       "    }\n",
       "\n",
       "    .dataframe tbody tr th {\n",
       "        vertical-align: top;\n",
       "    }\n",
       "\n",
       "    .dataframe thead th {\n",
       "        text-align: right;\n",
       "    }\n",
       "</style>\n",
       "<table border=\"1\" class=\"dataframe\">\n",
       "  <thead>\n",
       "    <tr style=\"text-align: right;\">\n",
       "      <th></th>\n",
       "      <th>NumMonth</th>\n",
       "    </tr>\n",
       "  </thead>\n",
       "  <tbody>\n",
       "    <tr>\n",
       "      <th>0</th>\n",
       "      <td>1</td>\n",
       "    </tr>\n",
       "  </tbody>\n",
       "</table>\n",
       "</div>"
      ],
      "text/plain": [
       "   NumMonth\n",
       "0         1"
      ]
     },
     "execution_count": 54,
     "metadata": {},
     "output_type": "execute_result"
    }
   ],
   "source": [
    "query=\"\"\"\n",
    "SELECT COUNT (DISTINCT toStartOfMonth(timest)) AS NumMonth FROM peas\n",
    "\"\"\"\n",
    "num_month=ph.read_clickhouse(query, connection=connection)\n",
    "num_month"
   ]
  },
  {
   "cell_type": "markdown",
   "metadata": {},
   "source": [
    "Выяснили. Так как данные представлены за один месяц, то группировка результатов количества усердных учеников по месяцам нам не понадобится. Следовательно, SQL-запрос будет выглядеть следующим образом:"
   ]
  },
  {
   "cell_type": "code",
   "execution_count": 55,
   "metadata": {},
   "outputs": [
    {
     "data": {
      "text/html": [
       "<div>\n",
       "<style scoped>\n",
       "    .dataframe tbody tr th:only-of-type {\n",
       "        vertical-align: middle;\n",
       "    }\n",
       "\n",
       "    .dataframe tbody tr th {\n",
       "        vertical-align: top;\n",
       "    }\n",
       "\n",
       "    .dataframe thead th {\n",
       "        text-align: right;\n",
       "    }\n",
       "</style>\n",
       "<table border=\"1\" class=\"dataframe\">\n",
       "  <thead>\n",
       "    <tr style=\"text-align: right;\">\n",
       "      <th></th>\n",
       "      <th>NumGoodStud</th>\n",
       "    </tr>\n",
       "  </thead>\n",
       "  <tbody>\n",
       "    <tr>\n",
       "      <th>0</th>\n",
       "      <td>130</td>\n",
       "    </tr>\n",
       "  </tbody>\n",
       "</table>\n",
       "</div>"
      ],
      "text/plain": [
       "   NumGoodStud\n",
       "0          130"
      ]
     },
     "execution_count": 55,
     "metadata": {},
     "output_type": "execute_result"
    }
   ],
   "source": [
    "# делаем запрос\n",
    "query=\"\"\"\n",
    "SELECT\n",
    "    COUNT(st_id) AS NumGoodStud\n",
    "FROM \n",
    "    (\n",
    "    SELECT\n",
    "            st_id,\n",
    "            SUM(correct) AS NumPeas\n",
    "    FROM peas\n",
    "    GROUP BY \n",
    "            st_id\n",
    "    HAVING\n",
    "            NumPeas > 20\n",
    "    )\n",
    "\"\"\"\n",
    "good_stud=ph.read_clickhouse(query, connection=connection)\n",
    "good_stud"
   ]
  },
  {
   "cell_type": "markdown",
   "metadata": {},
   "source": [
    "**Вывод:** количество усердных студентов за текущий месяц, кто правильно решил хотя бы 20 \"горошин\", равняется 130 "
   ]
  },
  {
   "cell_type": "markdown",
   "metadata": {},
   "source": [
    "#### 2.1 Оптимизация воронки\n",
    "Необходимо в одном запросе выгрузить следующую информацию о группах пользователей:\n",
    "    \n",
    "    * ARPU \n",
    "    * ARPAU \n",
    "    * CR в покупку \n",
    "    * СR активного пользователя в покупку \n",
    "    * CR пользователя из активности по математике (subject = ’math’) в покупку курса по математике"
   ]
  },
  {
   "cell_type": "code",
   "execution_count": 56,
   "metadata": {},
   "outputs": [
    {
     "data": {
      "text/html": [
       "<div>\n",
       "<style scoped>\n",
       "    .dataframe tbody tr th:only-of-type {\n",
       "        vertical-align: middle;\n",
       "    }\n",
       "\n",
       "    .dataframe tbody tr th {\n",
       "        vertical-align: top;\n",
       "    }\n",
       "\n",
       "    .dataframe thead th {\n",
       "        text-align: right;\n",
       "    }\n",
       "</style>\n",
       "<table border=\"1\" class=\"dataframe\">\n",
       "  <thead>\n",
       "    <tr style=\"text-align: right;\">\n",
       "      <th></th>\n",
       "      <th>Test_group</th>\n",
       "      <th>ARPU</th>\n",
       "      <th>ARPAU</th>\n",
       "      <th>CR</th>\n",
       "      <th>CR_active</th>\n",
       "      <th>CR_Math_active</th>\n",
       "    </tr>\n",
       "  </thead>\n",
       "  <tbody>\n",
       "    <tr>\n",
       "      <th>0</th>\n",
       "      <td>control</td>\n",
       "      <td>4541.0</td>\n",
       "      <td>10905.5</td>\n",
       "      <td>4.9</td>\n",
       "      <td>11.8</td>\n",
       "      <td>16.3</td>\n",
       "    </tr>\n",
       "    <tr>\n",
       "      <th>1</th>\n",
       "      <td>pilot</td>\n",
       "      <td>11508.5</td>\n",
       "      <td>35364.6</td>\n",
       "      <td>10.8</td>\n",
       "      <td>33.3</td>\n",
       "      <td>38.1</td>\n",
       "    </tr>\n",
       "  </tbody>\n",
       "</table>\n",
       "</div>"
      ],
      "text/plain": [
       "  Test_group     ARPU    ARPAU    CR  CR_active  CR_Math_active\n",
       "0    control   4541.0  10905.5   4.9       11.8            16.3\n",
       "1      pilot  11508.5  35364.6  10.8       33.3            38.1"
      ]
     },
     "execution_count": 56,
     "metadata": {},
     "output_type": "execute_result"
    }
   ],
   "source": [
    "query=\"\"\"\n",
    "SELECT\n",
    "    A.test_grp AS Test_group,\n",
    "    -- Справочно можно добавить в таблицу исходные данные для расчета\n",
    "    --SUM (B.Revenue) AS Revenue,\n",
    "    --COUNT (A.st_id) AS NumStud,\n",
    "    --SUM (C.ActiveStud) AS NumActive,\n",
    "    --SUM (B.Buyer) AS NumBuy,\n",
    "    --SUM (D.MathActive) AS NumMathActive,\n",
    "    --SUM (F.BuyMath) AS NumBuyMath,\n",
    "    ROUND (SUM (B.Revenue)/COUNT (A.st_id), 1) AS ARPU,\n",
    "    ROUND (SUM (B.Revenue)/SUM (C.ActiveStud), 1) AS ARPAU,\n",
    "    ROUND (SUM (B.Buyer)/COUNT (A.st_id)*100, 1) AS CR,\n",
    "    ROUND (SUM (B.Buyer)/SUM (C.ActiveStud)*100, 1) AS CR_active,\n",
    "    ROUND (SUM (F.BuyMath)/SUM (D.MathActive)*100, 1) AS CR_Math_active\n",
    "FROM\n",
    "    (\n",
    "        SELECT -- к таблице с группами подтягиваем данные для расчета метрик\n",
    "            *\n",
    "        FROM studs AS A\n",
    "        \n",
    "        LEFT JOIN -- таблица учеников, кто сделал покупку (1 - купил)\n",
    "            (\n",
    "            SELECT \n",
    "                st_id,\n",
    "                SUM(money) AS Revenue,\n",
    "                1 AS Buyer\n",
    "            FROM final_project_check\n",
    "            GROUP BY st_id\n",
    "            )\n",
    "            AS B\n",
    "        ON A.st_id = B.st_id\n",
    "    \n",
    "        LEFT JOIN -- таблица с усердными учениками (1 - усердный)\n",
    "            ( \n",
    "            SELECT \n",
    "                st_id,\n",
    "                1 AS ActiveStud\n",
    "            FROM peas\n",
    "            GROUP BY st_id\n",
    "            HAVING SUM(correct) > 10\n",
    "            ) AS C\n",
    "        ON A.st_id = C.st_id\n",
    "    \n",
    "        LEFT JOIN -- таблица с активными студентами по математике (1 - активный)\n",
    "            ( \n",
    "            SELECT \n",
    "                st_id,\n",
    "                1 AS MathActive\n",
    "            FROM peas\n",
    "            WHERE subject = 'Math'\n",
    "            GROUP BY st_id\n",
    "            HAVING SUM(correct) >= 2\n",
    "            ) AS D\n",
    "        ON A.st_id = D.st_id\n",
    "        \n",
    "        LEFT JOIN -- таблица со студентами, купивших курс математики (1 - купил)\n",
    "            (\n",
    "            SELECT\n",
    "                st_id,\n",
    "                1 AS BuyMath\n",
    "            FROM final_project_check\n",
    "            WHERE subject = 'Math'\n",
    "            ) AS F\n",
    "        ON A.st_id = F.st_id\n",
    "    )\n",
    "    \n",
    "GROUP BY\n",
    "    A.test_grp\n",
    "\"\"\"\n",
    "funnel=ph.read_clickhouse(query, connection=connection)\n",
    "funnel"
   ]
  },
  {
   "cell_type": "code",
   "execution_count": null,
   "metadata": {},
   "outputs": [],
   "source": []
  },
  {
   "cell_type": "markdown",
   "metadata": {},
   "source": [
    "### Задание 3: Python\n",
    "\n",
    "   1. Реализуйте функцию, которая будет автоматически подгружать информацию из дополнительного файла groups_add.csv (заголовки могут отличаться) и на основании дополнительных параметров пересчитывать метрики.\n",
    "    \n",
    "   2. Реализуйте функцию, которая будет строить графики по получаемым метрикам."
   ]
  },
  {
   "cell_type": "code",
   "execution_count": 57,
   "metadata": {},
   "outputs": [],
   "source": [
    "# сначала определяем функицю для построения диаграмм, в дальнейшем будем подавать ей на вход функцию расчета метрик\n",
    "def show(metrics):\n",
    "    \"\"\"\n",
    "    Функция построения диаграмм по нескольким метрикам.\n",
    "    По оси х - группы для анализа,\n",
    "    По оси у - величина метрики.\n",
    "    \n",
    "    Параметры\n",
    "    ~~~~~~~~~\n",
    "    metrics: Dataframe Pandas \n",
    "    \n",
    "    Результат выполнения функции\n",
    "    ~~~~~~~~~~~~~~~~~~~~~~~~~~~~\n",
    "    Столбчатые диаграммы по каждой из шести анализируемых метрик\n",
    "    \"\"\"\n",
    "    sns.set(rc={'axes.titlesize': 18, 'axes.labelsize': 16, 'xtick.labelsize': 16, \n",
    "                'ytick.labelsize': 16,'axes.titlepad': 16, \n",
    "               })\n",
    "    # задаем колонки датасета, по которым строим диаграммы и навзания диаграмм    \n",
    "    cols_to_plot=['CR', 'ARPAU', 'ARPAPU']\n",
    "    titles=['Конверсия активного пользователя\\n в клиента (CR), %',\n",
    "              'Средний доход на\\n активного пользователя (ARPAU)',\n",
    "              'Средний доход на\\n активного клиента (ARPAPU)']\n",
    "\n",
    "    # будем строить шесть графиков в одном поле    \n",
    "    fig, axes=plt.subplots(ncols=3, nrows=1, figsize=(18, 6))\n",
    "    fig.suptitle('Обзор метрик', fontsize=30)\n",
    "\n",
    "    for ax, col, ttl in zip(axes.flatten(), cols_to_plot, titles):\n",
    "        sns.barplot(data=metrics, x='grp', y=col, ax=ax)\n",
    "        ax.set(xlabel='группы', ylabel='', title=ttl)\n",
    "    \n",
    "    #динамическая подстройка графика под размеры окна\n",
    "    plt.tight_layout()\n",
    "    \n",
    "    plt.subplots_adjust(top=0.7, hspace=0.5, wspace=0.2)\n",
    "    plt.show()"
   ]
  },
  {
   "cell_type": "code",
   "execution_count": 58,
   "metadata": {},
   "outputs": [],
   "source": [
    "# определяем функцию для расчета метрик с учетом данных их дополнительного файла\n",
    "def total_metrics(path_to_add=[]):\n",
    "    \"\"\"\n",
    "    Функция расчета метрик с учетом данных из дополнительного файла\n",
    "    \n",
    "    Параметры:\n",
    "    ~~~~~~~~~\n",
    "    path_to_add - путь к csv-файлу с дополнительными данными\n",
    "    Значение аргумента по умолчанию: path_to_add=[] - то есть, путь к дополнительному файлу не задан.\n",
    "    \n",
    "    Результат выполнения функции:\n",
    "    ~~~~~~~~~~~~~~~~~~~~~~~~~~~~\n",
    "    pandas DataFrame с метриками по группам студентов\n",
    "    \n",
    "    'grp': группа студентов для анализа\n",
    "    'CR': конверсия активного пользователя в покупателя\n",
    "    'ARPAU': средний доход на активного пользователя\n",
    "    'ARPAPU': средний доход на активного клиента (платящего пользователя)\n",
    "    \n",
    "    Всего рассчитывается 3 метрики\n",
    "    \"\"\"\n",
    "        \n",
    "    # проверяем на наличие пути к доп файлу\n",
    "    if path_to_add == []:\n",
    "        add_df=[]\n",
    "    else:\n",
    "        # считываем доп данные по группам с переименованием имен заголовков \n",
    "        add_df=pd.read_csv(path + path_to_add, header=0, names=['id', 'grp'])\n",
    "    \n",
    "    # считываем данные по чекам, задаем метку покупателя (1)\n",
    "    checks_df=pd.read_csv(path + 'checks.csv', sep=';', header=0, names=['id', 'rev']).assign(buyer=1)\n",
    "    # считываем данные по активным студентам (зашли на платформу в дни эксперимента)\n",
    "    active_df=pd.read_csv(path + 'active_studs.csv', header=0, names=['id'])\n",
    "    \n",
    "    # к основным данным по группам добавляем дополнительные, создаем доп колонки для расчета метрик \n",
    "    total_df=pd.read_csv(path + 'groups.csv', sep=';')\\\n",
    "        .append(add_df)\\\n",
    "        .merge(active_df, how='inner', on='id')\\\n",
    "        .merge(checks_df, how='left', on='id')\\\n",
    "        .fillna(0)\\\n",
    "        .astype({'rev': int, 'buyer': int}, errors='ignore')\n",
    "    \n",
    "    #формируем таблицу с метриками\n",
    "    metrics_df=total_df\\\n",
    "        .groupby('grp', as_index=False)\\\n",
    "        .aggregate({'id': 'count', \n",
    "                   'rev': 'sum', \n",
    "                 'buyer': 'sum'})\\\n",
    "        .assign(CR=lambda x: (x.buyer/x.id * 100).round(2))\\\n",
    "        .assign(ARPAU=lambda x: (x.rev/x.id).round(2))\\\n",
    "        .assign(ARPAPU=lambda x: (x.rev/x.buyer).round(2))\n",
    "        \n",
    "    print('Результаты расчета метрик (файл доп данных:', path_to_add,\\\n",
    "          '):\\n\\n', metrics_df[['grp', 'CR', 'ARPAU', 'ARPAPU']])\n",
    "    return show(metrics_df)"
   ]
  },
  {
   "cell_type": "markdown",
   "metadata": {},
   "source": [
    "#### Проверяем работу обеих функций\n",
    "   * без дополнительного файла с данными"
   ]
  },
  {
   "cell_type": "code",
   "execution_count": 59,
   "metadata": {},
   "outputs": [
    {
     "name": "stdout",
     "output_type": "stream",
     "text": [
      "Результаты расчета метрик (файл доп данных: [] ):\n",
      "\n",
      "   grp    CR  ARPAU   ARPAPU\n",
      "0   A  5.08  47.44   933.59\n",
      "1   B  4.61  57.86  1255.83\n"
     ]
    },
    {
     "data": {
      "image/png": "[encoded data removed]",
      "text/plain": [
       "<Figure size 1296x432 with 3 Axes>"
      ]
     },
     "metadata": {},
     "output_type": "display_data"
    }
   ],
   "source": [
    "total_metrics()"
   ]
  },
  {
   "cell_type": "markdown",
   "metadata": {},
   "source": [
    "   * с дополнительным файлом с данными"
   ]
  },
  {
   "cell_type": "code",
   "execution_count": 60,
   "metadata": {},
   "outputs": [
    {
     "name": "stdout",
     "output_type": "stream",
     "text": [
      "Результаты расчета метрик (файл доп данных: group_add.csv ):\n",
      "\n",
      "   grp    CR  ARPAU   ARPAPU\n",
      "0   A  5.07  47.35   933.59\n",
      "1   B  4.62  58.06  1257.88\n"
     ]
    },
    {
     "data": {
      "image/png": "[encoded data removed]",
      "text/plain": [
       "<Figure size 1296x432 with 3 Axes>"
      ]
     },
     "metadata": {},
     "output_type": "display_data"
    }
   ],
   "source": [
    "total_metrics('group_add.csv')"
   ]
  },
  {
   "cell_type": "markdown",
   "metadata": {},
   "source": [
    "### Вывод: \n",
    "Таким образом, функция total_metrics() дает возможность пересчитывать метрики по группам студентов с учетом поступления дополнительных данных (либо без них). Далее, применяя функицю show() к полученным данным, имеем возможность визуально оценить различие метрик по группам А и В."
   ]
  },
  {
   "cell_type": "code",
   "execution_count": null,
   "metadata": {},
   "outputs": [],
   "source": []
  }
 ],
 "metadata": {
  "kernelspec": {
   "display_name": "Python 3",
   "language": "python",
   "name": "python3"
  },
  "language_info": {
   "codemirror_mode": {
    "name": "ipython",
    "version": 3
   },
   "file_extension": ".py",
   "mimetype": "text/x-python",
   "name": "python",
   "nbconvert_exporter": "python",
   "pygments_lexer": "ipython3",
   "version": "3.7.3"
  }
 },
 "nbformat": 4,
 "nbformat_minor": 4
}
